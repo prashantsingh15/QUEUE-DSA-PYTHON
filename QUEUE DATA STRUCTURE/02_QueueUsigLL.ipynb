{
 "cells": [
  {
   "cell_type": "code",
   "execution_count": 1,
   "metadata": {},
   "outputs": [],
   "source": [
    "class Node:\n",
    "    def __init__(self,data) -> None:\n",
    "        self.data=data\n",
    "        self.next=None\n",
    "\n",
    "class Queue:\n",
    "    def __init__(self) -> None:\n",
    "        self.__head=None\n",
    "        self.__tail=None\n",
    "        self.__count=0\n",
    "    \n",
    "    def enqueue(self,element):\n",
    "        newNode=Node(element)\n",
    "        if self.__head is None:\n",
    "            self.__head=newNode\n",
    "\n",
    "        else:\n",
    "            self.__tail.next=newNode\n",
    "\n",
    "        self.__tail=newNode\n",
    "        self.__count=self.__count\n",
    "\n",
    "    def dequeue(self):\n",
    "        if self.__head is None:\n",
    "            print(\"Hey this list is empty!!\")\n",
    "            return\n",
    "\n",
    "        data=self.__head.data\n",
    "        self.__head=self.__head.next\n",
    "        self.__count=self.__count-1\n",
    "\n",
    "        return data \n",
    "\n",
    "    def isEmpty(self):\n",
    "        return self.size()==0\n",
    "\n",
    "    def size(self):\n",
    "        return self.__count\n",
    "\n",
    "    def front(self):\n",
    "        if self.__head is None:\n",
    "\n",
    "            print(\"Hey There Queue Is Empty!!\")\n",
    "            return \n",
    "\n",
    "        data=self.__head.data\n",
    "        return data"
   ]
  },
  {
   "cell_type": "code",
   "execution_count": 2,
   "metadata": {},
   "outputs": [
    {
     "data": {
      "text/plain": [
       "1"
      ]
     },
     "execution_count": 2,
     "metadata": {},
     "output_type": "execute_result"
    }
   ],
   "source": [
    "q=Queue()\n",
    "q.enqueue(1)\n",
    "q.enqueue(2)\n",
    "q.enqueue(3)\n",
    "q.enqueue(4)\n",
    "while q.isEmpty() is False:\n",
    "    print(q.dequeue())\n",
    "q.front()"
   ]
  }
 ],
 "metadata": {
  "kernelspec": {
   "display_name": "base",
   "language": "python",
   "name": "python3"
  },
  "language_info": {
   "codemirror_mode": {
    "name": "ipython",
    "version": 3
   },
   "file_extension": ".py",
   "mimetype": "text/x-python",
   "name": "python",
   "nbconvert_exporter": "python",
   "pygments_lexer": "ipython3",
   "version": "3.9.13 (main, Aug 25 2022, 23:51:50) [MSC v.1916 64 bit (AMD64)]"
  },
  "orig_nbformat": 4,
  "vscode": {
   "interpreter": {
    "hash": "19e3ed3879c13a0a3709fc77aecbc5c79d8539dfda6d4462a1c416bc4ea67350"
   }
  }
 },
 "nbformat": 4,
 "nbformat_minor": 2
}
