{
 "cells": [
  {
   "cell_type": "code",
   "execution_count": 2,
   "metadata": {},
   "outputs": [
    {
     "ename": "ImportError",
     "evalue": "cannot import name 'queue' from 'queue' (c:\\Users\\bunty\\OneDrive\\Documents\\Python Scripts\\lib\\queue.py)",
     "output_type": "error",
     "traceback": [
      "\u001b[1;31m---------------------------------------------------------------------------\u001b[0m",
      "\u001b[1;31mImportError\u001b[0m                               Traceback (most recent call last)",
      "\u001b[1;32mC:\\Temp\\ipykernel_20376\\3027838842.py\u001b[0m in \u001b[0;36m<module>\u001b[1;34m\u001b[0m\n\u001b[1;32m----> 1\u001b[1;33m \u001b[1;32mfrom\u001b[0m \u001b[0mqueue\u001b[0m \u001b[1;32mimport\u001b[0m  \u001b[0mqueue\u001b[0m\u001b[1;33m\u001b[0m\u001b[1;33m\u001b[0m\u001b[0m\n\u001b[0m\u001b[0;32m      2\u001b[0m \u001b[1;33m\u001b[0m\u001b[0m\n\u001b[0;32m      3\u001b[0m \u001b[1;32mdef\u001b[0m \u001b[0mreverseKElements\u001b[0m\u001b[1;33m(\u001b[0m\u001b[0minputQueue\u001b[0m\u001b[1;33m,\u001b[0m \u001b[0mk\u001b[0m\u001b[1;33m)\u001b[0m\u001b[1;33m:\u001b[0m\u001b[1;33m\u001b[0m\u001b[1;33m\u001b[0m\u001b[0m\n\u001b[0;32m      4\u001b[0m \tif (inputQueue.empty() == True or\n\u001b[0;32m      5\u001b[0m \t\t\tk > inputQueue.qsize()):\n",
      "\u001b[1;31mImportError\u001b[0m: cannot import name 'queue' from 'queue' (c:\\Users\\bunty\\OneDrive\\Documents\\Python Scripts\\lib\\queue.py)"
     ]
    }
   ],
   "source": [
    "\n",
    "from queue import  queue\n",
    "\n",
    "def reverseKElements(inputQueue, k):\n",
    "\tif (inputQueue.empty() == True or\n",
    "\t\t\tk > inputQueue.qsize()):\n",
    "\t\treturn\n",
    "\tif (k <= 0):\n",
    "\t\treturn\n",
    "\n",
    "\tStack = []\n",
    "\n",
    "\n",
    "\tfor i in range(k-1):\n",
    "\t\tStack.append(inputQueue.queue[0])\n",
    "\t\tinputQueue.get()\n",
    "\n",
    "\twhile (len(Stack) != 0):\n",
    "\t\tinputQueue.put(Stack[-1])\n",
    "\t\tStack.pop()\n",
    "\n",
    "\n",
    "\tfor i in range(inputQueue.qsize() - k):\n",
    "\t\tinputQueue.put(inputQueue.queue[0])\n",
    "\t\tinputQueue.get()\n",
    "\n",
    "\n",
    "\n",
    "\n",
    "def Print(Queue):\n",
    "\twhile (not Queue.empty()):\n",
    "\t\tprint(Queue.queue[0], end=\" \")\n",
    "\t\tQueue.get()\n",
    "\n",
    "\n",
    "# Driver code\n",
    "if __name__ == '__main__':\n",
    "\tinputQueue =Queue()\n",
    "\tinputQueue.put(10)\n",
    "\tinputQueue.put(20)\n",
    "\tinputQueue.put(30)\n",
    "\tinputQueue.put(40)\n",
    "\tinputQueue.put(50)\n",
    "\tinputQueue.put(60)\n",
    "\tinputQueue.put(70)\n",
    "\tinputQueue.put(80)\n",
    "\tinputQueue.put(90)\n",
    "\tinputQueue.put(100)\n",
    "\n",
    "\tk = 5\n",
    "\treverseKElements(k, inputQueue)\n",
    "\tPrint(inputQueue)\n",
    "\n",
    "# This code is contributed by PranchalK\n"
   ]
  },
  {
   "cell_type": "code",
   "execution_count": 6,
   "metadata": {},
   "outputs": [
    {
     "name": "stdout",
     "output_type": "stream",
     "text": [
      "True\n",
      "4\n",
      "False\n",
      "8.4\n",
      "True\n"
     ]
    }
   ],
   "source": [
    "class Deque:\n",
    "    def __init__(self):\n",
    "        self.items = []\n",
    "\n",
    "    def isEmpty(self):\n",
    "        return self.items == []\n",
    "\n",
    "    def addFront(self, item):\n",
    "        self.items.append(item)\n",
    "\n",
    "    def addRear(self, item):\n",
    "        self.items.insert(0,item)\n",
    "\n",
    "    def removeFront(self):\n",
    "        return self.items.pop()\n",
    "\n",
    "    def removeRear(self):\n",
    "        return self.items.pop(0)\n",
    "\n",
    "    def size(self):\n",
    "        return len(self.items)\n",
    "\n",
    "\n",
    "\n",
    "d=Deque()\n",
    "print(d.isEmpty())\n",
    "d.addRear(5)\n",
    "d.addRear(1)\n",
    "d.addFront(49)\n",
    "d.addFront(1)\n",
    "print(d.size())\n",
    "print(d.isEmpty())\n",
    "d.addRear(8.4)\n",
    "print(d.removeRear())\n",
    "print(d.removeFront())"
   ]
  }
 ],
 "metadata": {
  "kernelspec": {
   "display_name": "base",
   "language": "python",
   "name": "python3"
  },
  "language_info": {
   "codemirror_mode": {
    "name": "ipython",
    "version": 3
   },
   "file_extension": ".py",
   "mimetype": "text/x-python",
   "name": "python",
   "nbconvert_exporter": "python",
   "pygments_lexer": "ipython3",
   "version": "3.9.13"
  },
  "orig_nbformat": 4,
  "vscode": {
   "interpreter": {
    "hash": "19e3ed3879c13a0a3709fc77aecbc5c79d8539dfda6d4462a1c416bc4ea67350"
   }
  }
 },
 "nbformat": 4,
 "nbformat_minor": 2
}
