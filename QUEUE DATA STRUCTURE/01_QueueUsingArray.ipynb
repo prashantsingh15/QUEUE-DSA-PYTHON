{
 "cells": [
  {
   "cell_type": "code",
   "execution_count": 12,
   "metadata": {},
   "outputs": [],
   "source": [
    "class QueueUSingArray:\n",
    "    def __init__(self) -> None:\n",
    "        self.__arr=[]\n",
    "        self.__count=0\n",
    "        self.__front=0\n",
    "\n",
    "    def enqueue(self,data): \n",
    "        self.__arr.append(data)\n",
    "        self.__count +=1\n",
    "\n",
    "\n",
    "\n",
    "\n",
    "    def dequeue(self):\n",
    "        if self.__count==0:\n",
    "            return -1\n",
    "\n",
    "        element=self.__arr[self.__front]\n",
    "        self.__front +=1\n",
    "        self.__count -=1\n",
    "        return element\n",
    "\n",
    "\n",
    "\n",
    "\n",
    "\n",
    "    def front(self):\n",
    "        if self.__count==0:\n",
    "            return -1\n",
    "\n",
    "        return self.__arr[self.__front]\n",
    "\n",
    "\n",
    "    \n",
    "\n",
    "\n",
    "\n",
    "    def size(self):\n",
    "        return self.__count\n",
    "\n",
    "\n",
    "\n",
    "\n",
    "    def isEmpty(self):\n",
    "        return self.size()==0\n"
   ]
  },
  {
   "cell_type": "code",
   "execution_count": 13,
   "metadata": {},
   "outputs": [
    {
     "name": "stdout",
     "output_type": "stream",
     "text": [
      "1\n",
      "2\n",
      "3\n",
      "4\n",
      "-1\n"
     ]
    }
   ],
   "source": [
    "q=QueueUSingArray()\n",
    "q.enqueue(1)\n",
    "q.enqueue(2)\n",
    "q.enqueue(3)\n",
    "q.enqueue(4)\n",
    "while (q.isEmpty() is False):\n",
    "    \n",
    "    print(q.front())\n",
    "    q.dequeue()\n",
    "\n",
    "print(q.dequeue())\n",
    "\n"
   ]
  }
 ],
 "metadata": {
  "kernelspec": {
   "display_name": "base",
   "language": "python",
   "name": "python3"
  },
  "language_info": {
   "codemirror_mode": {
    "name": "ipython",
    "version": 3
   },
   "file_extension": ".py",
   "mimetype": "text/x-python",
   "name": "python",
   "nbconvert_exporter": "python",
   "pygments_lexer": "ipython3",
   "version": "3.9.13"
  },
  "orig_nbformat": 4,
  "vscode": {
   "interpreter": {
    "hash": "19e3ed3879c13a0a3709fc77aecbc5c79d8539dfda6d4462a1c416bc4ea67350"
   }
  }
 },
 "nbformat": 4,
 "nbformat_minor": 2
}
