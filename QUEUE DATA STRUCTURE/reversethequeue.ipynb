{
 "cells": [
  {
   "cell_type": "code",
   "execution_count": null,
   "metadata": {},
   "outputs": [],
   "source": [
    "\n",
    "from sys import stdin, setrecursionlimit\n",
    "import queue\n",
    "\n",
    "setrecursionlimit(10 ** 6)\n",
    "\n",
    "def reverseQueue(inputQueue) :\n",
    "    # Your code goes here\n",
    "    if inputQueue.empty():\n",
    "        return\n",
    "    element = inputQueue.get()\n",
    "    \n",
    "    reverseQueue(inputQueue)\n",
    "    inputQueue.put(element)\n",
    "\n",
    "\n",
    "\n",
    "\n",
    "\n",
    "'''-------------- Utility Functions --------------'''\n",
    "\n",
    "\n",
    "\n",
    "def takeInput():\n",
    "    n = int(stdin.readline().strip())\n",
    "\n",
    "    qu = queue.Queue()\n",
    "    values = list(map(int, stdin.readline().strip().split()))\n",
    "\n",
    "    for i in range(n) :\n",
    "        qu.put(values[i])\n",
    "\n",
    "    return qu\n",
    "\n",
    "\n",
    "#main\n",
    "t = int(stdin.readline().strip())\n",
    "\n",
    "while t > 0 :\n",
    "    \n",
    "    qu = takeInput()\n",
    "    reverseQueue(qu)\n",
    "    \n",
    "    while not qu.empty() :\n",
    "        print(qu.get(), end = \" \")\n",
    "        \n",
    "    print()\n",
    "    \n",
    "    t -= 1"
   ]
  }
 ],
 "metadata": {
  "language_info": {
   "name": "python"
  },
  "orig_nbformat": 4
 },
 "nbformat": 4,
 "nbformat_minor": 2
}
